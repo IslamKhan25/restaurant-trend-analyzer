
# 🧠 Restaurant Trend Analyzer (Zomato Data)
This notebook explores restaurant data to uncover customer trends, pricing patterns, and location-based insights for business decisions.

---

## 🔹 Step 1: Install & Import Libraries

!pip install pandas matplotlib seaborn plotly scikit-learn --quiet

import pandas as pd
import matplotlib.pyplot as plt
import seaborn as sns
import plotly.express as px
import numpy as np
import warnings
warnings.filterwarnings('ignore')


## 🔹 Step 2: Load Dataset

> You can upload the Zomato dataset CSV (e.g., `zomato.csv`) from Kaggle.

from google.colab import files
uploaded = files.upload()

# Load dataset
df = pd.read_csv(next(iter(uploaded)), encoding='latin-1')
df.head()


## 🔹 Step 3: Initial Data Cleaning

### - Drop irrelevant columns
### - Check for null values and duplicates

df = df.drop(['url', 'address', 'phone', 'dish_liked', 'reviews_list', 'menu_item'], axis=1, errors='ignore')
df = df.drop_duplicates()
df = df.dropna(how='any')
df.head()


## 🔹 Step 4: EDA - Visual Insights

### Top 10 Restaurant Types

top_rest_types = df['rest_type'].value_counts().head(10)
plt.figure(figsize=(10,5))
sns.barplot(x=top_rest_types.index, y=top_rest_types.values, palette='viridis')
plt.xticks(rotation=45)
plt.title("Top 10 Restaurant Types")
plt.show()


### Cost vs Rating Scatter Plot

plt.figure(figsize=(10,5))
sns.scatterplot(x='approx_cost(for two people)', y='rate', data=df)
plt.title("Cost vs Rating")
plt.xlabel("Approx Cost for Two")
plt.ylabel("Rating")
plt.show()


## 🔹 Step 5: Customer Segmentation with K-Means

We'll cluster restaurants based on average cost and rating.

from sklearn.cluster import KMeans
from sklearn.preprocessing import StandardScaler

df['rate'] = df['rate'].astype(str).str.replace('/5', '').replace('NEW', '0').replace('-', '0').astype(float)
df['cost'] = df['approx_cost(for two people)'].astype(str).str.replace(',', '').astype(float)

X = df[['rate', 'cost']].dropna()
scaler = StandardScaler()
X_scaled = scaler.fit_transform(X)

kmeans = KMeans(n_clusters=4, random_state=0)
df['cluster'] = kmeans.fit_predict(X_scaled)
px.scatter(df, x='rate', y='cost', color=df['cluster'].astype(str), title="Restaurant Segments (K-Means)")


## ✅ Summary
- We performed EDA to analyze cuisine, pricing, and restaurant types.
- Clustered restaurants based on cost and ratings using K-Means.
- You can now export this as a PDF or share via GitHub or Streamlit.

